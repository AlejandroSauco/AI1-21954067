{
 "cells": [
  {
   "cell_type": "markdown",
   "id": "aa90c801-7dea-4c32-9358-291bacc68993",
   "metadata": {},
   "source": [
    "# Actividad individual 1"
   ]
  },
  {
   "cell_type": "markdown",
   "id": "2370c2b4-0306-4704-b4d4-105b70f63e9d",
   "metadata": {},
   "source": [
    "## Trabajo de Alejandro Sauco"
   ]
  },
  {
   "cell_type": "markdown",
   "id": "79c45113-fdb4-4d5e-8529-99ef5072ac8f",
   "metadata": {},
   "source": [
    "## Numero de expediente: 21954067"
   ]
  },
  {
   "cell_type": "markdown",
   "id": "12c4915a-c8db-4275-8aa2-5f9a120f3fac",
   "metadata": {},
   "source": [
    "## Dirección de repositorio:https://github.com/AlejandroSauco/AI1-21954067.git"
   ]
  },
  {
   "cell_type": "code",
   "execution_count": 1,
   "id": "e50088d2-d3bf-415f-ad64-31187a00cefe",
   "metadata": {},
   "outputs": [],
   "source": [
    "from IPython import display"
   ]
  },
  {
   "cell_type": "code",
   "execution_count": 2,
   "id": "9fff22f0-5d65-4474-80be-e0f43a51c794",
   "metadata": {},
   "outputs": [
    {
     "data": {
      "image/png": "[encoded data removed]",
      "text/plain": [
       "<IPython.core.display.Image object>"
      ]
     },
     "execution_count": 2,
     "metadata": {},
     "output_type": "execute_result"
    }
   ],
   "source": [
    "display.Image(\"UEM-logo.png\")"
   ]
  },
  {
   "cell_type": "markdown",
   "id": "65979b09-74b9-4973-943c-c65ce9d5574d",
   "metadata": {},
   "source": [
    "## Servidor"
   ]
  },
  {
   "cell_type": "code",
   "execution_count": null,
   "id": "b6319755-ebc3-4dd9-8b4f-c2483ef358c0",
   "metadata": {},
   "outputs": [],
   "source": [
    "import socket\n",
    "import threading\n",
    "import sys\n",
    "import pickle\n",
    "import os\n",
    "\n",
    "class Servidor():\n",
    "    \n",
    "    port_ = int(input(\"Introduce tu puerto: \"))\n",
    "\n",
    "    def __init__(self, host=socket.gethostname(), port=port_):\n",
    "        self.nicks = []\n",
    "        self.clientes = []\n",
    "        self.sock = socket.socket()\n",
    "        self.sock.bind((str(host), int(port)))\n",
    "        self.sock.listen(20)\n",
    "        self.sock.setblocking(False)\n",
    "\n",
    "        aceptar = threading.Thread(target=self.aceptarC)\n",
    "        procesar = threading.Thread(target=self.procesarC)\n",
    "\n",
    "\n",
    "        aceptar.daemon = True\n",
    "        aceptar.start()\n",
    "\n",
    "        procesar.daemon = True\n",
    "        procesar.start()\n",
    "\n",
    "\n",
    "        while True:\n",
    "            msg = input('SALIR = Q\\n')\n",
    "            if msg == 'Q':\n",
    "                print(\"**** TALOGOO ****\")\n",
    "                self.sock.close()\n",
    "                sys.exit()\n",
    "            elif msg == 'p':\n",
    "                print(\"Los siguientes usuarios se han conectado: \")\n",
    "                for i in range(len(self.usuarios)):\n",
    "                    print(i+1, \"-\", self.usuarios[i])\n",
    "            else:\n",
    "                pass\n",
    "\n",
    "    def broadcats(self, msg, cliente):\n",
    "        for c in self.clientes:\n",
    "            try:\n",
    "                if c != cliente:\n",
    "                    c.send(msg)\n",
    "            except:\n",
    "                self.clientes.remove(c)\n",
    "    \n",
    "    def aceptarC(self):\n",
    "        while True:\n",
    "            try:\n",
    "                conn, addr = self.sock.accept()\n",
    "                print(f\"\\nConexion aceptada via {conn}\\n\")\n",
    "                conn.setblocking(False)\n",
    "                self.clientes.append(conn)\n",
    "            except:\n",
    "                pass\n",
    "    def procesarC(self):\n",
    "        print(\"Procesamiento de mensajes iniciado\")\n",
    "        while True:\n",
    "            if len(self.clientes) > 0:\n",
    "                for c in self.clientes:\n",
    "                    try:\n",
    "                        data = c.recv(32)\n",
    "                        if data:\n",
    "                            self.broadcast(data, c)\n",
    "                            if \": \" not in pickle.loads(data):\n",
    "                                print(pickle.loads(data))\n",
    "                                self.nicks.append(pickle.loads(data))\n",
    "                            else:\n",
    "                                print(pickle.loads(data))\n",
    "                                f = open(\"u21954067.txt\", \"a\")\n",
    "                                f.write(pickle.loads(data) + \"\\n\")\n",
    "                                f.close()\n",
    "                            print(pickle.loads(data))\n",
    "                    except:\n",
    "                        pass\n",
    "s = Servidor()"
   ]
  },
  {
   "cell_type": "markdown",
   "id": "c7e60bc2-34f8-4319-9399-737f20e6f291",
   "metadata": {},
   "source": [
    "## Cliente"
   ]
  },
  {
   "cell_type": "code",
   "execution_count": null,
   "id": "eb34a789-ac18-4cef-8d9a-c480033baf66",
   "metadata": {},
   "outputs": [],
   "source": [
    "import threading\n",
    "import sys \n",
    "import socket\n",
    "import pickle\n",
    "import os\n",
    "\n",
    "\n",
    "class Cliente():\n",
    "    def mostrarIP():\n",
    "        ipp = socket.socket(socket.AF_INET, socket.SOCK_DGRAM) # Obtener la información del socket de este programa en este dispositivo\n",
    "        ipp.connect((\"8.8.8.8\", 80))\n",
    "        print(\"La IP de este dispositivo es:\", ipp.getsockname()[0], \"\\n\")\n",
    "        ipp.close()\n",
    "\n",
    "    mostrarIP()\n",
    "    \n",
    "    host_ =input(\"Introduce la direccion IP: \")\n",
    "    port_ = int(input(\"Introduce puerto: \"))\n",
    "    nick = input (\"Nombre de usuario: \")\n",
    "\n",
    "    nicks = []\n",
    "    \n",
    "\n",
    "\n",
    "    def __init__(self, host=host_, port=port_, nickname=nick):\n",
    "        self.sock = socket.socket()\n",
    "        self.sock.connect((str(host), int(port)))\n",
    "        hilo_recv_mensaje = threading.Thread(target=self.recibir)\n",
    "        hilo_recv_mensaje.daemon = True\n",
    "        hilo_recv_mensaje.start()\n",
    "        print('Hilo con PID', os.getpid())\n",
    "        print('Hilos activos', threading.active_count())\n",
    "        self.enviarNick(nickname)\n",
    "\n",
    "        while True:\n",
    "            msg = input('\\nEscriba Texto ? ** Enviar = ENTER ** Abandonar Chat = Q \\n')\n",
    "\n",
    "            if msg != 'Q':\n",
    "                self.enviar(nickname + \": \" + msg)\n",
    "            else:\n",
    "                print(\"*** Adios Majo ***\")\n",
    "                self.sock.close()\n",
    "                sys.exit()\n",
    "    \n",
    "    def recibir(self):\n",
    "        while True:\n",
    "            try:\n",
    "                data = self.sock.recv(32)\n",
    "                if data:\n",
    "                    print(pickle.loads(data))\n",
    "            except:\n",
    "                pass\n",
    "    def enviar(self, msg):\n",
    "        self.sock.send(pickle.dumps(msg))\n",
    "\n",
    "    def enviarNick(self, nick):\n",
    "        self.sock.send(pickle.dumps(nick))\n",
    "c = Cliente()\n"
   ]
  }
 ],
 "metadata": {
  "kernelspec": {
   "display_name": "Python 3",
   "language": "python",
   "name": "python3"
  },
  "language_info": {
   "codemirror_mode": {
    "name": "ipython",
    "version": 3
   },
   "file_extension": ".py",
   "mimetype": "text/x-python",
   "name": "python",
   "nbconvert_exporter": "python",
   "pygments_lexer": "ipython3",
   "version": "3.8.8"
  }
 },
 "nbformat": 4,
 "nbformat_minor": 5
}
